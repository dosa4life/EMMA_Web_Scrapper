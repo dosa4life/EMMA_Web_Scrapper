{
 "cells": [
  {
   "cell_type": "code",
   "execution_count": null,
   "id": "77db9e57",
   "metadata": {},
   "outputs": [],
   "source": [
    "from selenium import webdriver\n",
    "from selenium.webdriver.common.by import By\n",
    "from selenium.webdriver.support.ui import WebDriverWait\n",
    "from selenium.webdriver.support import expected_conditions as EC\n",
    "from webdriver_manager.microsoft import EdgeChromiumDriverManager\n",
    "from webdriver_manager.chrome import ChromeDriverManager\n",
    "from time import sleep\n",
    "from selenium.webdriver.chrome.service import Service\n",
    "from selenium.webdriver.common.action_chains import ActionChains\n",
    "from selenium.webdriver.common.keys import Keys\n",
    "from bs4 import BeautifulSoup as bs \n",
    "from urllib.request import urlopen\n",
    "import urllib.request, urllib.parse, urllib.error\n",
    "import requests\n",
    "import ssl\n",
    "import requests\n",
    "import re\n",
    "import pandas as pd\n",
    "import math\n",
    "import numpy as np\n",
    "from numpy import dot\n",
    "from numpy.linalg import norm\n",
    "import os\n",
    "import time\n",
    "import pandas as pd\n",
    "from PIL import Image\n",
    "import pytesseract\n",
    "import numpy as np\n",
    "from pdf2image import convert_from_path, convert_from_bytes\n",
    "from PyPDF2 import PdfReader\n",
    "from PyPDF2 import PdfFileReader\n",
    "from Crypto.Cipher import AES\n",
    "import os\n",
    "from datetime import datetime\n",
    "from datetime import date\n",
    "import re\n",
    "import pandas as pd\n",
    "import spacy\n",
    "from spacy import displacy"
   ]
  },
  {
   "cell_type": "code",
   "execution_count": null,
   "id": "8f8dca3f",
   "metadata": {},
   "outputs": [],
   "source": [
    "options = webdriver.ChromeOptions()\n",
    "options.add_experimental_option('prefs', {\n",
    "# \"download.default_directory\": \"C:/Users/dhruv/Downloads\", #Change default directory for downloads\n",
    "\"download.default_directory\": r\"D:\\UTA\\RA\\Scrapped_Output\",\n",
    "\"download.prompt_for_download\": False, #To auto download the file\n",
    "\"download.directory_upgrade\": True,\n",
    "\"plugins.always_open_pdf_externally\": True, #It will not show PDF directly in chrome\n",
    "\"safebrowsing_for_trusted_sources_enabled\": False,\n",
    "\"safebrowsing.enabled\": False\n",
    "})"
   ]
  },
  {
   "cell_type": "code",
   "execution_count": null,
   "id": "fcd61462",
   "metadata": {},
   "outputs": [],
   "source": [
    "now_ = datetime.now().strftime(\"%H:%M:%S\")\n",
    "date_ = date.today().strftime(\"%b-%d-%Y\")\n",
    "\n",
    "log_file_path=r\"D:\\\\UTA\\\\RA\\\\Scrapped_Output\\\\File_Generation_Log.txt\"\n",
    "log_file=open(log_file_path,mode='a',newline='\\n')"
   ]
  },
  {
   "cell_type": "code",
   "execution_count": null,
   "id": "6aff1f03",
   "metadata": {
    "scrolled": true
   },
   "outputs": [],
   "source": [
    "print(f\"\\n\\n\\nStart Date:{date_}\\t\\tStart time: {now_}\",file=log_file)\n",
    "browser = webdriver.Chrome(options = options)\n",
    "print(f\"\\nInitial Web Driver Opened\\n\",file = log_file)\n",
    "# df  = pd.read_excel(r'D:\\UTA\\RA\\MW Entities Cusip_NoOS.xlsx')\n",
    "# cusip = df.loc[51:,'cusip']\n",
    "df  = pd.read_excel(r'D:\\UTA\\RA\\Scrapped_Output\\MW Entities Cusip_NoOS_TEST.xlsx')\n",
    "cusip = df.loc[(df['Disclose_or_not'].isna()),'cusip']\n",
    "# cusip = df.loc[82:,'cusip']\n",
    "len(cusip)"
   ]
  },
  {
   "cell_type": "code",
   "execution_count": null,
   "id": "98b61567",
   "metadata": {},
   "outputs": [],
   "source": [
    "def move_into_view(os):\n",
    "    browser.execute_script(\"return arguments[0].scrollIntoView({block: 'center', inline: 'nearest'})\",os)"
   ]
  },
  {
   "cell_type": "code",
   "execution_count": null,
   "id": "03963bcd",
   "metadata": {},
   "outputs": [],
   "source": [
    "def scrappy(CUSIP):\n",
    "    print(f\"\\n\\n\\nStart Date:{date_}\\t\\tStart time: {now_}\",file=log_file)\n",
    "    print(f\"\\nCUSIP: {CUSIP}\",file=log_file)\n",
    "    browser.get('https://emma.msrb.org/Home/Index')\n",
    "    actions = ActionChains(browser)\n",
    "\n",
    "    try:\n",
    "        search_bar = browser.find_element(\"xpath\",\"//*[@id = 'quickSearchText']\")\n",
    "        search = search_bar.send_keys(CUSIP)\n",
    "    except Exception as e:\n",
    "        print(f\"\\nError: Issue with SEARCHING\\n{e}\\n\\n\",file=log_file)\n",
    "\n",
    "    sleep(5)\n",
    "\n",
    "    try:\n",
    "        search_go = browser.find_element(\"xpath\",\"//*[@id = 'quickSearchButton']\")\n",
    "        search_go.click()\n",
    "    except Exception as e:\n",
    "        print(f\"Error: Could not SEARCH and GO;\\n{e}\\n\\n\",file=log_file)\n",
    "\n",
    "    sleep(5)\n",
    "\n",
    "    try:\n",
    "        browser.execute_script(\"window.scrollTo(0, document.body.scrollHeight);\")\n",
    "        accept_go = browser.find_element(\"xpath\",\"//input[@alternatetext='Accept']\")\n",
    "        accept_go.click()\n",
    "    except Exception as e:\n",
    "        print(f'Error: No Accept Button\\n{e}\\n\\n',file=log_file)\n",
    "\n",
    "    sleep(5)\n",
    "\n",
    "    try:\n",
    "        close_go = browser.find_element(\"xpath\",\"//a[@class='closeOverlay']\")\n",
    "        close_go.click()\n",
    "    except  Exception as e:\n",
    "        print(f'Error: No Shadow Cross\\n{e}\\n\\n',file=log_file)\n",
    "\n",
    "    sleep(5)\n",
    "\n",
    "    try:\n",
    "        disc_docs_tab = browser.find_element(\"xpath\",\"//*[@id = 'ui-id-4']\")\n",
    "        move_into_view(disc_docs_tab)\n",
    "        sleep(3)\n",
    "        disc_docs_tab.click()\n",
    "    except  Exception as e:\n",
    "        print(f\"Error: Counld not find Disclosure Documents Tab\\n{e}\\n\\n\",file=log_file)\n",
    "\n",
    "    sleep(3)\n",
    "\n",
    "    try:\n",
    "        os_cntnr = browser.find_element(\"xpath\",\"//div[@id='officialStatementContainer']\")\n",
    "        if os_cntnr.find_element(By.TAG_NAME,'p').text == 'No OS has been submitted.':\n",
    "            move_into_view(os_cntnr)\n",
    "            print(f\"{os_cntnr.find_element(By.TAG_NAME,'p').text}\",file=log_file)\n",
    "    except Exception as e:\n",
    "        try:\n",
    "            ls_os = browser.find_elements(\"xpath\",\"//a[@ga-name='clickDisclosureDocuments/OS']\")\n",
    "            for os in ls_os:\n",
    "                move_into_view(os)\n",
    "                sleep(3)\n",
    "                os.click()\n",
    "                sleep(10)\n",
    "        except Exception as e:\n",
    "            print(f\"Error: Could not download .pdf \\n{e}\\n\\n\",file=log_file)\n",
    "\n",
    "    sleep(3)\n",
    "    end_ = datetime.now().strftime(\"%H:%M:%S\")\n",
    "    end_date_ = date.today().strftime(\"%b-%d-%Y\")\n",
    "    print(f\"\\n\\n\\nEnd Date:{end_date_}\\t\\tEnd time: {end_}\\nTime Take for completion->{datetime.strptime(end_, '%H:%M:%S') - datetime.strptime(now_, '%H:%M:%S')}\",file=log_file)\n",
    "\n",
    "    print(f\"Restarting Web Driver\\n\\n\",file=log_file)\n",
    "    browser.get('https://emma.msrb.org/Home/Index')"
   ]
  },
  {
   "cell_type": "code",
   "execution_count": null,
   "id": "805efb42",
   "metadata": {},
   "outputs": [],
   "source": [
    "def pdf2img():\n",
    "    for i in os.listdir('D:\\\\UTA\\\\RA\\\\Scrapped_Output'):\n",
    "        if '.pdf' in i:\n",
    "            images = convert_from_path(r\"D:\\\\UTA\\\\RA\\\\Scrapped_Output\\\\\"+i, poppler_path=r\"D:\\Poppler\\poppler-23.11.0\\Library\\bin\")\n",
    "            for img in range(len(images)):\n",
    "                images[img].save(r'D:\\\\UTA\\\\RA\\\\Scrapped_Output\\\\temp_images\\\\'+str(i.split('.pdf')[0])+'_IMG_'+ str(img) +'.jpg', 'JPEG')"
   ]
  },
  {
   "cell_type": "code",
   "execution_count": null,
   "id": "a2ce5eb5",
   "metadata": {},
   "outputs": [],
   "source": [
    "def keyW_search(CUSIP):\n",
    "    p = []\n",
    "    for i in os.listdir(r'D:\\\\UTA\\\\RA\\\\Scrapped_Output\\\\temp_images'):\n",
    "        filename = r'D:\\\\UTA\\\\RA\\\\Scrapped_Output\\\\temp_images\\\\'+i\n",
    "        if i.endswith(\".jpg\"):\n",
    "            img1 = np.array(Image.open(filename))\n",
    "            text = pytesseract.image_to_string(img1)\n",
    "            paras = text.split('\\n\\n')\n",
    "            for i in paras:\n",
    "                if (\"material weakness\" in  i.lower()) :\n",
    "                    p.append(i)\n",
    "    if len(p)==0:\n",
    "        df.loc[( df['cusip'] == CUSIP),'Disclose_or_not'] = 0\n",
    "    else:\n",
    "        df.loc[( df['cusip'] == CUSIP),'Disclose_or_not'] = 1"
   ]
  },
  {
   "cell_type": "code",
   "execution_count": null,
   "id": "1047a535",
   "metadata": {},
   "outputs": [],
   "source": [
    "def remove_pdf():\n",
    "    for files in list(os.listdir(r\"D:\\\\UTA\\\\RA\\\\Scrapped_Output\\\\\")):\n",
    "        if '.pdf' in  files:\n",
    "            os.remove(r\"D:\\\\UTA\\\\RA\\\\Scrapped_Output\\\\\"+files)"
   ]
  },
  {
   "cell_type": "code",
   "execution_count": null,
   "id": "d024109e",
   "metadata": {},
   "outputs": [],
   "source": [
    "def remove_temp_imgs():\n",
    "    for files in list(os.listdir(r\"D:\\\\UTA\\\\RA\\\\Scrapped_Output\\\\temp_images\\\\\")):\n",
    "        os.remove(r\"D:\\\\UTA\\\\RA\\\\Scrapped_Output\\\\temp_images\\\\\"+files)"
   ]
  },
  {
   "cell_type": "code",
   "execution_count": null,
   "id": "de0ffcaa",
   "metadata": {},
   "outputs": [],
   "source": [
    "for i in cusip:\n",
    "    CUSIP = i\n",
    "    remove_pdf()\n",
    "    scrappy(CUSIP)\n",
    "    pytesseract.pytesseract.tesseract_cmd = r'D:\\Tesseract-OCR\\tesseract.exe'\n",
    "    pdf2img()\n",
    "    keyW_search(CUSIP)\n",
    "    remove_temp_imgs()\n",
    "    df.to_excel(r\"D:\\UTA\\RA\\Scrapped_Output\\MW Entities Cusip_NoOS_TEST.xlsx\",index=False)\n",
    "log_file.close()"
   ]
  },
  {
   "cell_type": "code",
   "execution_count": null,
   "id": "b486c3dc",
   "metadata": {},
   "outputs": [],
   "source": [
    "# df.loc[( df['Disclose_or_not'].isin(cusip)),:]\n",
    "len(df.loc[(df['Disclose_or_not'].notna()),:])"
   ]
  },
  {
   "cell_type": "code",
   "execution_count": null,
   "id": "9c472ad6",
   "metadata": {},
   "outputs": [],
   "source": [
    "df.to_excel(r\"D:\\UTA\\RA\\Scrapped_Output\\MW Entities Cusip_NoOS_TEST.xlsx\",index=False)\n",
    "log_file.close()"
   ]
  },
  {
   "cell_type": "code",
   "execution_count": null,
   "id": "21c7494c",
   "metadata": {},
   "outputs": [],
   "source": []
  }
 ],
 "metadata": {
  "kernelspec": {
   "display_name": "Python 3 (ipykernel)",
   "language": "python",
   "name": "python3"
  },
  "language_info": {
   "codemirror_mode": {
    "name": "ipython",
    "version": 3
   },
   "file_extension": ".py",
   "mimetype": "text/x-python",
   "name": "python",
   "nbconvert_exporter": "python",
   "pygments_lexer": "ipython3",
   "version": "3.11.5"
  }
 },
 "nbformat": 4,
 "nbformat_minor": 5
}
